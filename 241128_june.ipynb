{
 "cells": [
  {
   "cell_type": "code",
   "execution_count": 9,
   "metadata": {
    "colab": {
     "base_uri": "https://localhost:8080/"
    },
    "executionInfo": {
     "elapsed": 25969,
     "status": "ok",
     "timestamp": 1732792300747,
     "user": {
      "displayName": "Marcello Jeong",
      "userId": "05950254871756523684"
     },
     "user_tz": -540
    },
    "id": "unjhKTiG1b8c",
    "outputId": "1a05fd15-8701-4b40-eb7c-3cdba8b3a41b"
   },
   "outputs": [
    {
     "name": "stdout",
     "output_type": "stream",
     "text": [
      "Mounted at /content/drive\n",
      "   No.       JN  Project  FI Brand  \\\n",
      "0    1  JN40022  PC Body  WY   g&h   \n",
      "1    2  JN40022  PC Body  WY   g&h   \n",
      "2    3  JN40022  PC Body  WY   g&h   \n",
      "3    4  JN40022  PC Body  WY   g&h   \n",
      "4    5  JN40022  PC Body  WY   g&h   \n",
      "\n",
      "                                        Product   SKU   Launch  Lab  \\\n",
      "0                             Nourish Foot Cream    7  2023-Q1  CRL   \n",
      "1                             Nourish Hand Cream   10  2023-Q1  CRL   \n",
      "2                               Nourish Lip Balm    6  2023-Q1  CRL   \n",
      "3  Protect UV Sunscreen SPF 50+ PA ++++ (GLOBAL)    9  2023-Q2  CRL   \n",
      "4                    Nourish Foot Cream (Taiwan)    1  2023-Q1  CRL   \n",
      "\n",
      "          Study_Code Test_Start   Test_End  \n",
      "0  CRLNJ2021-0703-11 2021-09-03 2021-10-15  \n",
      "1  CRLNJ2021-0703-11 2021-09-03 2021-10-15  \n",
      "2  CRLNJ2021-0703-11 2021-09-03 2021-10-15  \n",
      "3  CRLNJ2021-0703-11 2021-09-03 2021-10-15  \n",
      "4  CRLNJ2021-0703-11 2021-09-03 2021-10-15  \n"
     ]
    }
   ],
   "source": [
    "import pandas as pd\n",
    "\n",
    "# Excel 파일 경로 (Google Drive에 업로드한 파일의 경로)\n",
    "from google.colab import drive\n",
    "drive.mount('/content/drive')\n",
    "file_path = '/content/drive/My Drive/Colab Notebooks/june/Sample_Test.xlsx'\n",
    "# 엑셀 파일 읽기\n",
    "data = pd.read_excel(file_path)\n",
    "print(data.head())\n"
   ]
  },
  {
   "cell_type": "code",
   "execution_count": 10,
   "metadata": {
    "colab": {
     "base_uri": "https://localhost:8080/"
    },
    "executionInfo": {
     "elapsed": 307,
     "status": "ok",
     "timestamp": 1732792309257,
     "user": {
      "displayName": "Marcello Jeong",
      "userId": "05950254871756523684"
     },
     "user_tz": -540
    },
    "id": "twZwEtu619UQ",
    "outputId": "8d385a81-2ae9-4b55-a452-77701aaa584d"
   },
   "outputs": [
    {
     "name": "stdout",
     "output_type": "stream",
     "text": [
      "  Test_Start   Test_End\n",
      "0 2021-09-03 2021-10-15\n",
      "1 2021-09-03 2021-10-15\n",
      "2 2021-09-03 2021-10-15\n",
      "3 2021-09-03 2021-10-15\n",
      "4 2021-09-03 2021-10-15\n"
     ]
    }
   ],
   "source": [
    "# Test_Start와 Test_End 열을 datetime 형식으로 변환\n",
    "data['Test_Start'] = pd.to_datetime(data['Test_Start'])\n",
    "data['Test_End'] = pd.to_datetime(data['Test_End'])\n",
    "\n",
    "# 데이터 확인\n",
    "print(data[['Test_Start', 'Test_End']].head())\n"
   ]
  },
  {
   "cell_type": "code",
   "execution_count": 11,
   "metadata": {
    "colab": {
     "base_uri": "https://localhost:8080/"
    },
    "executionInfo": {
     "elapsed": 282,
     "status": "ok",
     "timestamp": 1732792312801,
     "user": {
      "displayName": "Marcello Jeong",
      "userId": "05950254871756523684"
     },
     "user_tz": -540
    },
    "id": "8q8tF9QI2AOV",
    "outputId": "4522b920-5c39-447d-b103-a76e8dc871f8"
   },
   "outputs": [
    {
     "name": "stdout",
     "output_type": "stream",
     "text": [
      "Index(['no.', 'jn', 'project', 'fi', 'brand', 'product_', 'sku', 'launch',\n",
      "       'lab', 'study_code', 'test_start', 'test_end'],\n",
      "      dtype='object')\n"
     ]
    }
   ],
   "source": [
    "# 열 이름을 소문자로 변환하고 공백을 언더스코어로 대체\n",
    "data.columns = data.columns.str.lower().str.replace(' ', '_').str.replace('[^a-z0-9_]', '')\n",
    "\n",
    "# 데이터 확인\n",
    "print(data.columns)\n"
   ]
  },
  {
   "cell_type": "code",
   "execution_count": 13,
   "metadata": {
    "colab": {
     "base_uri": "https://localhost:8080/"
    },
    "executionInfo": {
     "elapsed": 394,
     "status": "ok",
     "timestamp": 1732792341410,
     "user": {
      "displayName": "Marcello Jeong",
      "userId": "05950254871756523684"
     },
     "user_tz": -540
    },
    "id": "s7EOZvdJ3exT",
    "outputId": "ca13a64f-38e0-44dc-ec09-cd67c25fb25f"
   },
   "outputs": [
    {
     "name": "stdout",
     "output_type": "stream",
     "text": [
      "엑셀 데이터를 SQLite 데이터베이스로 변환 완료!\n"
     ]
    }
   ],
   "source": [
    "import pandas as pd\n",
    "import sqlite3\n",
    "\n",
    "# 엑셀 파일 읽기\n",
    "# file_path = '/mnt/data/Modified_File.xlsx'\n",
    "# data = pd.read_excel(file_path)\n",
    "\n",
    "# SQLite 데이터베이스 연결 (파일 생성)\n",
    "conn = sqlite3.connect('data.db')\n",
    "\n",
    "# 데이터 저장 (데이터베이스에 테이블 생성 및 삽입)\n",
    "data.to_sql('data_table', conn, if_exists='replace', index=False)\n",
    "\n",
    "print(\"엑셀 데이터를 SQLite 데이터베이스로 변환 완료!\")\n"
   ]
  },
  {
   "cell_type": "code",
   "execution_count": 31,
   "metadata": {
    "colab": {
     "base_uri": "https://localhost:8080/"
    },
    "executionInfo": {
     "elapsed": 37491,
     "status": "ok",
     "timestamp": 1732793539439,
     "user": {
      "displayName": "Marcello Jeong",
      "userId": "05950254871756523684"
     },
     "user_tz": -540
    },
    "id": "RvXAPECs3vxK",
    "outputId": "8ed8d3c7-67b2-4d92-cda0-75ffb6110487"
   },
   "outputs": [
    {
     "name": "stdout",
     "output_type": "stream",
     "text": [
      " * Serving Flask app '__main__'\n",
      " * Debug mode: on\n"
     ]
    },
    {
     "name": "stderr",
     "output_type": "stream",
     "text": [
      "INFO:werkzeug:\u001b[31m\u001b[1mWARNING: This is a development server. Do not use it in a production deployment. Use a production WSGI server instead.\u001b[0m\n",
      " * Running on http://127.0.0.1:5001\n",
      "INFO:werkzeug:\u001b[33mPress CTRL+C to quit\u001b[0m\n",
      "INFO:werkzeug: * Restarting with stat\n"
     ]
    }
   ],
   "source": [
    "from flask import Flask, request, render_template\n",
    "import sqlite3\n",
    "\n",
    "app = Flask(__name__)\n",
    "\n",
    "# 데이터베이스 연결 함수\n",
    "def query_database(query):\n",
    "    conn = sqlite3.connect('data.db')\n",
    "    cursor = conn.cursor()\n",
    "    cursor.execute(query)\n",
    "    results = cursor.fetchall()\n",
    "    conn.close()\n",
    "    return results\n",
    "\n",
    "# 메인 페이지\n",
    "@app.route('/')\n",
    "def home():\n",
    "    return '''\n",
    "        <form action=\"/search\" method=\"get\">\n",
    "            검색어: <input type=\"text\" name=\"query\">\n",
    "            <input type=\"submit\" value=\"검색\">\n",
    "        </form>\n",
    "    '''\n",
    "\n",
    "# 검색 기능 구현\n",
    "@app.route('/search')\n",
    "def search():\n",
    "    query = request.args.get('query')\n",
    "    if query:\n",
    "        sql_query = f\"SELECT * FROM data_table WHERE Product LIKE '%{query}%'\"\n",
    "        results = query_database(sql_query)\n",
    "        return f\"<h2>검색 결과:</h2> {results}\"\n",
    "    else:\n",
    "        return \"검색어를 입력하세요.\"\n",
    "\n",
    "if __name__ == '__main__':\n",
    "    app.run(debug=True,port=5001)\n"
   ]
  },
  {
   "cell_type": "markdown",
   "metadata": {},
   "source": [
    "# 칼럼 별 검색 추가"
   ]
  },
  {
   "cell_type": "code",
   "execution_count": 3,
   "metadata": {},
   "outputs": [
    {
     "name": "stdout",
     "output_type": "stream",
     "text": [
      " * Serving Flask app '__main__'\n",
      " * Debug mode: on\n"
     ]
    },
    {
     "name": "stderr",
     "output_type": "stream",
     "text": [
      "\u001b[31m\u001b[1mWARNING: This is a development server. Do not use it in a production deployment. Use a production WSGI server instead.\u001b[0m\n",
      " * Running on http://127.0.0.1:5001\n",
      "\u001b[33mPress CTRL+C to quit\u001b[0m\n",
      " * Restarting with stat\n",
      "Traceback (most recent call last):\n",
      "  File \"/opt/anaconda3/envs/venv/lib/python3.8/site-packages/ipykernel_launcher.py\", line 18, in <module>\n",
      "    app.launch_new_instance()\n",
      "  File \"/opt/anaconda3/envs/venv/lib/python3.8/site-packages/traitlets/config/application.py\", line 1074, in launch_instance\n",
      "    app.initialize(argv)\n",
      "  File \"/opt/anaconda3/envs/venv/lib/python3.8/site-packages/traitlets/config/application.py\", line 118, in inner\n",
      "    return method(app, *args, **kwargs)\n",
      "  File \"/opt/anaconda3/envs/venv/lib/python3.8/site-packages/ipykernel/kernelapp.py\", line 692, in initialize\n",
      "    self.init_sockets()\n",
      "  File \"/opt/anaconda3/envs/venv/lib/python3.8/site-packages/ipykernel/kernelapp.py\", line 331, in init_sockets\n",
      "    self.shell_port = self._bind_socket(self.shell_socket, self.shell_port)\n",
      "  File \"/opt/anaconda3/envs/venv/lib/python3.8/site-packages/ipykernel/kernelapp.py\", line 253, in _bind_socket\n",
      "    return self._try_bind_socket(s, port)\n",
      "  File \"/opt/anaconda3/envs/venv/lib/python3.8/site-packages/ipykernel/kernelapp.py\", line 229, in _try_bind_socket\n",
      "    s.bind(\"tcp://%s:%i\" % (self.ip, port))\n",
      "  File \"/opt/anaconda3/envs/venv/lib/python3.8/site-packages/zmq/sugar/socket.py\", line 311, in bind\n",
      "    super().bind(addr)\n",
      "  File \"_zmq.py\", line 917, in zmq.backend.cython._zmq.Socket.bind\n",
      "  File \"_zmq.py\", line 179, in zmq.backend.cython._zmq._check_rc\n",
      "zmq.error.ZMQError: Address already in use (addr='tcp://127.0.0.1:56596')\n"
     ]
    },
    {
     "ename": "SystemExit",
     "evalue": "1",
     "output_type": "error",
     "traceback": [
      "An exception has occurred, use %tb to see the full traceback.\n",
      "\u001b[0;31mSystemExit\u001b[0m\u001b[0;31m:\u001b[0m 1\n"
     ]
    }
   ],
   "source": [
    "from flask import Flask, request, render_template\n",
    "import sqlite3\n",
    "\n",
    "app = Flask(__name__)\n",
    "\n",
    "# 데이터베이스 연결 함수\n",
    "def query_database(query, params=None):\n",
    "    conn = sqlite3.connect('data.db')\n",
    "    cursor = conn.cursor()\n",
    "    cursor.execute(query, params or [])\n",
    "    results = cursor.fetchall()\n",
    "    conn.close()\n",
    "    return results\n",
    "\n",
    "# 메인 페이지\n",
    "@app.route('/')\n",
    "def home():\n",
    "    return render_template('home.html')\n",
    "\n",
    "# 검색 기능 구현\n",
    "@app.route('/search')\n",
    "def search():\n",
    "    query = request.args.get('query')\n",
    "    column = request.args.get('column')\n",
    "    if query and column:\n",
    "        # SQL Injection 방지를 위해 플레이스홀더 사용\n",
    "        sql_query = f\"SELECT * FROM data_table WHERE {column} LIKE ?\"\n",
    "        results = query_database(sql_query, (f\"%{query}%\",))\n",
    "        return render_template('results.html', query=query, column=column, results=results)\n",
    "    else:\n",
    "        return \"검색어와 칼럼을 모두 입력하세요.\"\n",
    "\n",
    "if __name__ == '__main__':\n",
    "    app.run(debug=True, port=5001)"
   ]
  }
 ],
 "metadata": {
  "colab": {
   "provenance": []
  },
  "kernelspec": {
   "display_name": "Python (venv)",
   "language": "python",
   "name": "venv"
  },
  "language_info": {
   "codemirror_mode": {
    "name": "ipython",
    "version": 3
   },
   "file_extension": ".py",
   "mimetype": "text/x-python",
   "name": "python",
   "nbconvert_exporter": "python",
   "pygments_lexer": "ipython3",
   "version": "3.8.20"
  }
 },
 "nbformat": 4,
 "nbformat_minor": 4
}
