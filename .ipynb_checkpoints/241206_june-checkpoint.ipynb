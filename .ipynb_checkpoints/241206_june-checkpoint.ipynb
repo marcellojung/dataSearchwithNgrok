{
 "cells": [
  {
   "cell_type": "code",
   "execution_count": 9,
   "metadata": {
    "colab": {
     "base_uri": "https://localhost:8080/"
    },
    "executionInfo": {
     "elapsed": 25969,
     "status": "ok",
     "timestamp": 1732792300747,
     "user": {
      "displayName": "Marcello Jeong",
      "userId": "05950254871756523684"
     },
     "user_tz": -540
    },
    "id": "unjhKTiG1b8c",
    "outputId": "1a05fd15-8701-4b40-eb7c-3cdba8b3a41b"
   },
   "outputs": [
    {
     "name": "stdout",
     "output_type": "stream",
     "text": [
      "Mounted at /content/drive\n",
      "   No.       JN  Project  FI Brand  \\\n",
      "0    1  JN40022  PC Body  WY   g&h   \n",
      "1    2  JN40022  PC Body  WY   g&h   \n",
      "2    3  JN40022  PC Body  WY   g&h   \n",
      "3    4  JN40022  PC Body  WY   g&h   \n",
      "4    5  JN40022  PC Body  WY   g&h   \n",
      "\n",
      "                                        Product   SKU   Launch  Lab  \\\n",
      "0                             Nourish Foot Cream    7  2023-Q1  CRL   \n",
      "1                             Nourish Hand Cream   10  2023-Q1  CRL   \n",
      "2                               Nourish Lip Balm    6  2023-Q1  CRL   \n",
      "3  Protect UV Sunscreen SPF 50+ PA ++++ (GLOBAL)    9  2023-Q2  CRL   \n",
      "4                    Nourish Foot Cream (Taiwan)    1  2023-Q1  CRL   \n",
      "\n",
      "          Study_Code Test_Start   Test_End  \n",
      "0  CRLNJ2021-0703-11 2021-09-03 2021-10-15  \n",
      "1  CRLNJ2021-0703-11 2021-09-03 2021-10-15  \n",
      "2  CRLNJ2021-0703-11 2021-09-03 2021-10-15  \n",
      "3  CRLNJ2021-0703-11 2021-09-03 2021-10-15  \n",
      "4  CRLNJ2021-0703-11 2021-09-03 2021-10-15  \n"
     ]
    }
   ],
   "source": [
    "import pandas as pd\n",
    "\n",
    "# Excel 파일 경로 (Google Drive에 업로드한 파일의 경로)\n",
    "from google.colab import drive\n",
    "drive.mount('/content/drive')\n",
    "file_path = '/content/drive/My Drive/Colab Notebooks/june/Sample_Test.xlsx'\n",
    "# 엑셀 파일 읽기\n",
    "data = pd.read_excel(file_path)\n",
    "print(data.head())\n"
   ]
  },
  {
   "cell_type": "code",
   "execution_count": 10,
   "metadata": {
    "colab": {
     "base_uri": "https://localhost:8080/"
    },
    "executionInfo": {
     "elapsed": 307,
     "status": "ok",
     "timestamp": 1732792309257,
     "user": {
      "displayName": "Marcello Jeong",
      "userId": "05950254871756523684"
     },
     "user_tz": -540
    },
    "id": "twZwEtu619UQ",
    "outputId": "8d385a81-2ae9-4b55-a452-77701aaa584d"
   },
   "outputs": [
    {
     "name": "stdout",
     "output_type": "stream",
     "text": [
      "  Test_Start   Test_End\n",
      "0 2021-09-03 2021-10-15\n",
      "1 2021-09-03 2021-10-15\n",
      "2 2021-09-03 2021-10-15\n",
      "3 2021-09-03 2021-10-15\n",
      "4 2021-09-03 2021-10-15\n"
     ]
    }
   ],
   "source": [
    "# Test_Start와 Test_End 열을 datetime 형식으로 변환\n",
    "data['Test_Start'] = pd.to_datetime(data['Test_Start'])\n",
    "data['Test_End'] = pd.to_datetime(data['Test_End'])\n",
    "\n",
    "# 데이터 확인\n",
    "print(data[['Test_Start', 'Test_End']].head())\n"
   ]
  },
  {
   "cell_type": "code",
   "execution_count": 11,
   "metadata": {
    "colab": {
     "base_uri": "https://localhost:8080/"
    },
    "executionInfo": {
     "elapsed": 282,
     "status": "ok",
     "timestamp": 1732792312801,
     "user": {
      "displayName": "Marcello Jeong",
      "userId": "05950254871756523684"
     },
     "user_tz": -540
    },
    "id": "8q8tF9QI2AOV",
    "outputId": "4522b920-5c39-447d-b103-a76e8dc871f8"
   },
   "outputs": [
    {
     "name": "stdout",
     "output_type": "stream",
     "text": [
      "Index(['no.', 'jn', 'project', 'fi', 'brand', 'product_', 'sku', 'launch',\n",
      "       'lab', 'study_code', 'test_start', 'test_end'],\n",
      "      dtype='object')\n"
     ]
    }
   ],
   "source": [
    "# 열 이름을 소문자로 변환하고 공백을 언더스코어로 대체\n",
    "data.columns = data.columns.str.lower().str.replace(' ', '_').str.replace('[^a-z0-9_]', '')\n",
    "\n",
    "# 데이터 확인\n",
    "print(data.columns)\n"
   ]
  },
  {
   "cell_type": "code",
   "execution_count": 13,
   "metadata": {
    "colab": {
     "base_uri": "https://localhost:8080/"
    },
    "executionInfo": {
     "elapsed": 394,
     "status": "ok",
     "timestamp": 1732792341410,
     "user": {
      "displayName": "Marcello Jeong",
      "userId": "05950254871756523684"
     },
     "user_tz": -540
    },
    "id": "s7EOZvdJ3exT",
    "outputId": "ca13a64f-38e0-44dc-ec09-cd67c25fb25f"
   },
   "outputs": [
    {
     "name": "stdout",
     "output_type": "stream",
     "text": [
      "엑셀 데이터를 SQLite 데이터베이스로 변환 완료!\n"
     ]
    }
   ],
   "source": [
    "import pandas as pd\n",
    "import sqlite3\n",
    "\n",
    "# 엑셀 파일 읽기\n",
    "# file_path = '/mnt/data/Modified_File.xlsx'\n",
    "# data = pd.read_excel(file_path)\n",
    "\n",
    "# SQLite 데이터베이스 연결 (파일 생성)\n",
    "conn = sqlite3.connect('data.db')\n",
    "\n",
    "# 데이터 저장 (데이터베이스에 테이블 생성 및 삽입)\n",
    "data.to_sql('data_table', conn, if_exists='replace', index=False)\n",
    "\n",
    "print(\"엑셀 데이터를 SQLite 데이터베이스로 변환 완료!\")\n"
   ]
  },
  {
   "cell_type": "code",
   "execution_count": 31,
   "metadata": {
    "colab": {
     "base_uri": "https://localhost:8080/"
    },
    "executionInfo": {
     "elapsed": 37491,
     "status": "ok",
     "timestamp": 1732793539439,
     "user": {
      "displayName": "Marcello Jeong",
      "userId": "05950254871756523684"
     },
     "user_tz": -540
    },
    "id": "RvXAPECs3vxK",
    "outputId": "8ed8d3c7-67b2-4d92-cda0-75ffb6110487"
   },
   "outputs": [
    {
     "name": "stdout",
     "output_type": "stream",
     "text": [
      " * Serving Flask app '__main__'\n",
      " * Debug mode: on\n"
     ]
    },
    {
     "name": "stderr",
     "output_type": "stream",
     "text": [
      "INFO:werkzeug:\u001b[31m\u001b[1mWARNING: This is a development server. Do not use it in a production deployment. Use a production WSGI server instead.\u001b[0m\n",
      " * Running on http://127.0.0.1:5001\n",
      "INFO:werkzeug:\u001b[33mPress CTRL+C to quit\u001b[0m\n",
      "INFO:werkzeug: * Restarting with stat\n"
     ]
    }
   ],
   "source": [
    "from flask import Flask, request, render_template\n",
    "import sqlite3\n",
    "\n",
    "app = Flask(__name__)\n",
    "\n",
    "# 데이터베이스 연결 함수\n",
    "def query_database(query):\n",
    "    conn = sqlite3.connect('data.db')\n",
    "    cursor = conn.cursor()\n",
    "    cursor.execute(query)\n",
    "    results = cursor.fetchall()\n",
    "    conn.close()\n",
    "    return results\n",
    "\n",
    "# 메인 페이지\n",
    "@app.route('/')\n",
    "def home():\n",
    "    return '''\n",
    "        <form action=\"/search\" method=\"get\">\n",
    "            검색어: <input type=\"text\" name=\"query\">\n",
    "            <input type=\"submit\" value=\"검색\">\n",
    "        </form>\n",
    "    '''\n",
    "\n",
    "# 검색 기능 구현\n",
    "@app.route('/search')\n",
    "def search():\n",
    "    query = request.args.get('query')\n",
    "    if query:\n",
    "        sql_query = f\"SELECT * FROM data_table WHERE Product LIKE '%{query}%'\"\n",
    "        results = query_database(sql_query)\n",
    "        return f\"<h2>검색 결과:</h2> {results}\"\n",
    "    else:\n",
    "        return \"검색어를 입력하세요.\"\n",
    "\n",
    "if __name__ == '__main__':\n",
    "    app.run(debug=True,port=5001)\n"
   ]
  },
  {
   "cell_type": "code",
   "execution_count": 29,
   "metadata": {
    "colab": {
     "base_uri": "https://localhost:8080/"
    },
    "executionInfo": {
     "elapsed": 301,
     "status": "ok",
     "timestamp": 1732793415803,
     "user": {
      "displayName": "Marcello Jeong",
      "userId": "05950254871756523684"
     },
     "user_tz": -540
    },
    "id": "MRrAnOcPgYXX",
    "outputId": "8d2d3354-095b-4002-dfdc-ca3dd78b78e7"
   },
   "outputs": [
    {
     "name": "stdout",
     "output_type": "stream",
     "text": [
      "Authtoken saved to configuration file: /root/.config/ngrok/ngrok.yml\n",
      "nohup: appending output to 'nohup.out'\n"
     ]
    }
   ],
   "source": [
    "#ngrok token\n",
    "# ! ./ngrok authtoken '23EzWcu8rZLEITtJUEaVRWaHuJi_BTZ9vbMf7gZ33ytKJqFW'\n",
    "# !./ngrok http 5001\n",
    "!./ngrok config add-authtoken '23EzWcu8rZLEITtJUEaVRWaHuJi_BTZ9vbMf7gZ33ytKJqFW'\n",
    "!nohup ./ngrok http 5001 &\n"
   ]
  },
  {
   "cell_type": "code",
   "execution_count": 30,
   "metadata": {
    "colab": {
     "base_uri": "https://localhost:8080/"
    },
    "executionInfo": {
     "elapsed": 282,
     "status": "ok",
     "timestamp": 1732793453183,
     "user": {
      "displayName": "Marcello Jeong",
      "userId": "05950254871756523684"
     },
     "user_tz": -540
    },
    "id": "FnisRv0IiTVx",
    "outputId": "e6316959-4093-4725-b117-b85d4244588b"
   },
   "outputs": [
    {
     "name": "stdout",
     "output_type": "stream",
     "text": [
      "{\"tunnels\":[{\"name\":\"command_line\",\"ID\":\"da323d2c2e81154fd093b339c66f9baf\",\"uri\":\"/api/tunnels/command_line\",\"public_url\":\"https://4335-34-16-196-232.ngrok-free.app\",\"proto\":\"https\",\"config\":{\"addr\":\"http://localhost:5001\",\"inspect\":true},\"metrics\":{\"conns\":{\"count\":0,\"gauge\":0,\"rate1\":0,\"rate5\":0,\"rate15\":0,\"p50\":0,\"p90\":0,\"p95\":0,\"p99\":0},\"http\":{\"count\":0,\"rate1\":0,\"rate5\":0,\"rate15\":0,\"p50\":0,\"p90\":0,\"p95\":0,\"p99\":0}}}],\"uri\":\"/api/tunnels\"}\n"
     ]
    }
   ],
   "source": [
    "!curl -s http://localhost:4040/api/tunnels"
   ]
  },
  {
   "cell_type": "code",
   "execution_count": 35,
   "metadata": {
    "colab": {
     "base_uri": "https://localhost:8080/"
    },
    "executionInfo": {
     "elapsed": 1723689,
     "status": "ok",
     "timestamp": 1732796190451,
     "user": {
      "displayName": "Marcello Jeong",
      "userId": "05950254871756523684"
     },
     "user_tz": -540
    },
    "id": "wEZR7orSQVk1",
    "outputId": "6cb50284-60ef-4398-8c41-8bbb68fcf5a0"
   },
   "outputs": [
    {
     "name": "stdout",
     "output_type": "stream",
     "text": [
      " * Serving Flask app '__main__'\n",
      " * Debug mode: off\n"
     ]
    },
    {
     "name": "stderr",
     "output_type": "stream",
     "text": [
      "INFO:werkzeug:\u001b[31m\u001b[1mWARNING: This is a development server. Do not use it in a production deployment. Use a production WSGI server instead.\u001b[0m\n",
      " * Running on http://127.0.0.1:5002\n",
      "INFO:werkzeug:\u001b[33mPress CTRL+C to quit\u001b[0m\n"
     ]
    }
   ],
   "source": [
    "from flask import Flask\n",
    "\n",
    "app = Flask(__name__)\n",
    "\n",
    "@app.route('/')\n",
    "def index():\n",
    "    return \"Hello, World!\"\n",
    "\n",
    "if __name__ == \"__main__\":\n",
    "    app.run(port=5002)"
   ]
  }
 ],
 "metadata": {
  "colab": {
   "provenance": []
  },
  "kernelspec": {
   "display_name": "Python 3",
   "name": "python3"
  },
  "language_info": {
   "codemirror_mode": {
    "name": "ipython",
    "version": 3
   },
   "file_extension": ".py",
   "mimetype": "text/x-python",
   "name": "python",
   "nbconvert_exporter": "python",
   "pygments_lexer": "ipython3",
   "version": "3.9.13"
  }
 },
 "nbformat": 4,
 "nbformat_minor": 0
}
