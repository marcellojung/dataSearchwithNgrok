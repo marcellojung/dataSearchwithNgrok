{
 "cells": [
  {
   "cell_type": "code",
   "execution_count": 8,
   "metadata": {
    "colab": {
     "base_uri": "https://localhost:8080/"
    },
    "executionInfo": {
     "elapsed": 25969,
     "status": "ok",
     "timestamp": 1732792300747,
     "user": {
      "displayName": "Marcello Jeong",
      "userId": "05950254871756523684"
     },
     "user_tz": -540
    },
    "id": "unjhKTiG1b8c",
    "outputId": "1a05fd15-8701-4b40-eb7c-3cdba8b3a41b"
   },
   "outputs": [
    {
     "name": "stdout",
     "output_type": "stream",
     "text": [
      "/Users/sungkunjeong/Downloads/University/june\n",
      "   No.       JN  Project  FI Brand  \\\n",
      "0    1  JN40022  PC Body  WY   g&h   \n",
      "1    2  JN40022  PC Body  WY   g&h   \n",
      "2    3  JN40022  PC Body  WY   g&h   \n",
      "3    4  JN40022  PC Body  WY   g&h   \n",
      "4    5  JN40022  PC Body  WY   g&h   \n",
      "\n",
      "                                        Product   SKU   Launch  Lab  \\\n",
      "0                             Nourish Foot Cream    7  2023-Q1  CRL   \n",
      "1                             Nourish Hand Cream   10  2023-Q1  CRL   \n",
      "2                               Nourish Lip Balm    6  2023-Q1  CRL   \n",
      "3  Protect UV Sunscreen SPF 50+ PA ++++ (GLOBAL)    9  2023-Q2  CRL   \n",
      "4                    Nourish Foot Cream (Taiwan)    1  2023-Q1  CRL   \n",
      "\n",
      "          Study_Code Test_Start   Test_End  \n",
      "0  CRLNJ2021-0703-11 2021-09-03 2021-10-15  \n",
      "1  CRLNJ2021-0703-11 2021-09-03 2021-10-15  \n",
      "2  CRLNJ2021-0703-11 2021-09-03 2021-10-15  \n",
      "3  CRLNJ2021-0703-11 2021-09-03 2021-10-15  \n",
      "4  CRLNJ2021-0703-11 2021-09-03 2021-10-15  \n"
     ]
    }
   ],
   "source": [
    "\n",
    "import pandas as pd\n",
    "!pwd\n",
    "# Excel 파일 경로 (Google Drive에 업로드한 파일의 경로)\n",
    "file_path = 'Sample_Test.xlsx'\n",
    "# 엑셀 파일 읽기\n",
    "data = pd.read_excel(file_path)\n",
    "print(data.head())\n"
   ]
  },
  {
   "cell_type": "code",
   "execution_count": 9,
   "metadata": {
    "colab": {
     "base_uri": "https://localhost:8080/"
    },
    "executionInfo": {
     "elapsed": 307,
     "status": "ok",
     "timestamp": 1732792309257,
     "user": {
      "displayName": "Marcello Jeong",
      "userId": "05950254871756523684"
     },
     "user_tz": -540
    },
    "id": "twZwEtu619UQ",
    "outputId": "8d385a81-2ae9-4b55-a452-77701aaa584d"
   },
   "outputs": [
    {
     "name": "stdout",
     "output_type": "stream",
     "text": [
      "  Test_Start   Test_End\n",
      "0 2021-09-03 2021-10-15\n",
      "1 2021-09-03 2021-10-15\n",
      "2 2021-09-03 2021-10-15\n",
      "3 2021-09-03 2021-10-15\n",
      "4 2021-09-03 2021-10-15\n"
     ]
    }
   ],
   "source": [
    "# Test_Start와 Test_End 열을 datetime 형식으로 변환\n",
    "data['Test_Start'] = pd.to_datetime(data['Test_Start'])\n",
    "data['Test_End'] = pd.to_datetime(data['Test_End'])\n",
    "\n",
    "# 데이터 확인\n",
    "print(data[['Test_Start', 'Test_End']].head())\n"
   ]
  },
  {
   "cell_type": "code",
   "execution_count": 10,
   "metadata": {
    "colab": {
     "base_uri": "https://localhost:8080/"
    },
    "executionInfo": {
     "elapsed": 282,
     "status": "ok",
     "timestamp": 1732792312801,
     "user": {
      "displayName": "Marcello Jeong",
      "userId": "05950254871756523684"
     },
     "user_tz": -540
    },
    "id": "8q8tF9QI2AOV",
    "outputId": "4522b920-5c39-447d-b103-a76e8dc871f8"
   },
   "outputs": [
    {
     "name": "stdout",
     "output_type": "stream",
     "text": [
      "Index(['no.', 'jn', 'project', 'fi', 'brand', 'product', 'sku', 'launch',\n",
      "       'lab', 'study_code', 'test_start', 'test_end'],\n",
      "      dtype='object')\n"
     ]
    }
   ],
   "source": [
    "# 열 이름을 소문자로 변환하고 공백을 언더스코어로 대체\n",
    "data.columns = data.columns.str.lower().str.replace(' ', '').str.replace('[^a-z0-9_]', '')\n",
    "\n",
    "# 데이터 확인\n",
    "print(data.columns)\n"
   ]
  },
  {
   "cell_type": "code",
   "execution_count": 11,
   "metadata": {
    "colab": {
     "base_uri": "https://localhost:8080/"
    },
    "executionInfo": {
     "elapsed": 394,
     "status": "ok",
     "timestamp": 1732792341410,
     "user": {
      "displayName": "Marcello Jeong",
      "userId": "05950254871756523684"
     },
     "user_tz": -540
    },
    "id": "s7EOZvdJ3exT",
    "outputId": "ca13a64f-38e0-44dc-ec09-cd67c25fb25f"
   },
   "outputs": [
    {
     "name": "stdout",
     "output_type": "stream",
     "text": [
      "엑셀 데이터를 SQLite 데이터베이스로 변환 완료!\n"
     ]
    }
   ],
   "source": [
    "import pandas as pd\n",
    "import sqlite3\n",
    "\n",
    "# 엑셀 파일 읽기\n",
    "# file_path = '/mnt/data/Modified_File.xlsx'\n",
    "# data = pd.read_excel(file_path)\n",
    "\n",
    "# SQLite 데이터베이스 연결 (파일 생성)\n",
    "conn = sqlite3.connect('data.db')\n",
    "\n",
    "# 데이터 저장 (데이터베이스에 테이블 생성 및 삽입)\n",
    "data.to_sql('data_table', conn, if_exists='replace', index=False)\n",
    "\n",
    "print(\"엑셀 데이터를 SQLite 데이터베이스로 변환 완료!\")\n"
   ]
  },
  {
   "cell_type": "code",
   "execution_count": null,
   "metadata": {
    "colab": {
     "base_uri": "https://localhost:8080/"
    },
    "executionInfo": {
     "elapsed": 37491,
     "status": "ok",
     "timestamp": 1732793539439,
     "user": {
      "displayName": "Marcello Jeong",
      "userId": "05950254871756523684"
     },
     "user_tz": -540
    },
    "id": "RvXAPECs3vxK",
    "outputId": "8ed8d3c7-67b2-4d92-cda0-75ffb6110487"
   },
   "outputs": [
    {
     "name": "stdout",
     "output_type": "stream",
     "text": [
      " * Serving Flask app '__main__'\n",
      " * Debug mode: on\n"
     ]
    },
    {
     "name": "stderr",
     "output_type": "stream",
     "text": [
      "\u001b[31m\u001b[1mWARNING: This is a development server. Do not use it in a production deployment. Use a production WSGI server instead.\u001b[0m\n",
      " * Running on http://127.0.0.1:5001\n",
      "\u001b[33mPress CTRL+C to quit\u001b[0m\n",
      "127.0.0.1 - - [06/Dec/2024 17:27:09] \"\u001b[35m\u001b[1mGET /search?query=Foot HTTP/1.1\u001b[0m\" 500 -\n",
      "Traceback (most recent call last):\n",
      "  File \"/opt/anaconda3/envs/venv/lib/python3.8/site-packages/flask/app.py\", line 1498, in __call__\n",
      "    return self.wsgi_app(environ, start_response)\n",
      "  File \"/opt/anaconda3/envs/venv/lib/python3.8/site-packages/flask/app.py\", line 1476, in wsgi_app\n",
      "    response = self.handle_exception(e)\n",
      "  File \"/opt/anaconda3/envs/venv/lib/python3.8/site-packages/flask/app.py\", line 1473, in wsgi_app\n",
      "    response = self.full_dispatch_request()\n",
      "  File \"/opt/anaconda3/envs/venv/lib/python3.8/site-packages/flask/app.py\", line 882, in full_dispatch_request\n",
      "    rv = self.handle_user_exception(e)\n",
      "  File \"/opt/anaconda3/envs/venv/lib/python3.8/site-packages/flask/app.py\", line 880, in full_dispatch_request\n",
      "    rv = self.dispatch_request()\n",
      "  File \"/opt/anaconda3/envs/venv/lib/python3.8/site-packages/flask/app.py\", line 865, in dispatch_request\n",
      "    return self.ensure_sync(self.view_functions[rule.endpoint])(**view_args)  # type: ignore[no-any-return]\n",
      "  File \"/var/folders/p9/1xchd4vd4czcbwfybms2ng2m0000gn/T/ipykernel_11793/1344569824.py\", line 28, in search\n",
      "    return render_template('results.html', query=query, results=results)\n",
      "  File \"/opt/anaconda3/envs/venv/lib/python3.8/site-packages/flask/templating.py\", line 149, in render_template\n",
      "    template = app.jinja_env.get_or_select_template(template_name_or_list)\n",
      "  File \"/opt/anaconda3/envs/venv/lib/python3.8/site-packages/jinja2/environment.py\", line 1084, in get_or_select_template\n",
      "    return self.get_template(template_name_or_list, parent, globals)\n",
      "  File \"/opt/anaconda3/envs/venv/lib/python3.8/site-packages/jinja2/environment.py\", line 1013, in get_template\n",
      "    return self._load_template(name, globals)\n",
      "  File \"/opt/anaconda3/envs/venv/lib/python3.8/site-packages/jinja2/environment.py\", line 972, in _load_template\n",
      "    template = self.loader.load(self, name, self.make_globals(globals))\n",
      "  File \"/opt/anaconda3/envs/venv/lib/python3.8/site-packages/jinja2/loaders.py\", line 126, in load\n",
      "    source, filename, uptodate = self.get_source(environment, name)\n",
      "  File \"/opt/anaconda3/envs/venv/lib/python3.8/site-packages/flask/templating.py\", line 65, in get_source\n",
      "    return self._get_source_fast(environment, template)\n",
      "  File \"/opt/anaconda3/envs/venv/lib/python3.8/site-packages/flask/templating.py\", line 99, in _get_source_fast\n",
      "    raise TemplateNotFound(template)\n",
      "jinja2.exceptions.TemplateNotFound: results.html\n",
      "127.0.0.1 - - [06/Dec/2024 17:27:09] \"\u001b[36mGET /search?__debugger__=yes&cmd=resource&f=style.css HTTP/1.1\u001b[0m\" 304 -\n",
      "127.0.0.1 - - [06/Dec/2024 17:27:09] \"\u001b[36mGET /search?__debugger__=yes&cmd=resource&f=debugger.js HTTP/1.1\u001b[0m\" 304 -\n",
      "127.0.0.1 - - [06/Dec/2024 17:27:09] \"GET /search?__debugger__=yes&cmd=resource&f=console.png&s=GWwDwDvvjL6kDZ1m2Kww HTTP/1.1\" 200 -\n",
      "127.0.0.1 - - [06/Dec/2024 17:27:09] \"\u001b[36mGET /search?__debugger__=yes&cmd=resource&f=console.png HTTP/1.1\u001b[0m\" 304 -\n",
      "127.0.0.1 - - [06/Dec/2024 17:27:41] \"GET /search?query=Foot HTTP/1.1\" 200 -\n",
      "127.0.0.1 - - [06/Dec/2024 17:28:12] \"GET /search?query=glycerin HTTP/1.1\" 200 -\n",
      "127.0.0.1 - - [06/Dec/2024 17:28:19] \"GET /search?query=glycer HTTP/1.1\" 200 -\n",
      "127.0.0.1 - - [06/Dec/2024 17:28:20] \"GET / HTTP/1.1\" 200 -\n",
      "127.0.0.1 - - [06/Dec/2024 17:29:46] \"GET /search?query=foot HTTP/1.1\" 200 -\n",
      "127.0.0.1 - - [06/Dec/2024 17:32:17] \"GET / HTTP/1.1\" 200 -\n",
      "127.0.0.1 - - [06/Dec/2024 17:32:21] \"GET /search?query=foot HTTP/1.1\" 200 -\n",
      "127.0.0.1 - - [06/Dec/2024 17:34:31] \"GET / HTTP/1.1\" 200 -\n",
      "127.0.0.1 - - [06/Dec/2024 17:35:34] \"GET /search?query=Lip HTTP/1.1\" 200 -\n"
     ]
    }
   ],
   "source": [
    "from flask import Flask, request, render_template\n",
    "import sqlite3\n",
    "\n",
    "app = Flask(__name__)\n",
    "\n",
    "# 데이터베이스 연결 함수\n",
    "def query_database(query, params=None):\n",
    "    conn = sqlite3.connect('data.db')\n",
    "    cursor = conn.cursor()\n",
    "    cursor.execute(query, params or [])\n",
    "    results = cursor.fetchall()\n",
    "    conn.close()\n",
    "    return results\n",
    "\n",
    "# 메인 페이지\n",
    "@app.route('/')\n",
    "def home():\n",
    "    return render_template('home.html')\n",
    "\n",
    "# 검색 기능 구현\n",
    "@app.route('/search')\n",
    "def search():\n",
    "    query = request.args.get('query')\n",
    "    if query:\n",
    "        # SQL Injection 방지를 위해 플레이스홀더 사용\n",
    "        sql_query = \"SELECT * FROM data_table WHERE product LIKE ?\"\n",
    "        results = query_database(sql_query, (f\"%{query}%\",))\n",
    "        return render_template('results.html', query=query, results=results)\n",
    "    else:\n",
    "        return \"검색어를 입력하세요.\"\n",
    "\n",
    "if __name__ == '__main__':\n",
    "    app.run(debug=True, port=5001, use_reloader=False)"
   ]
  },
  {
   "cell_type": "code",
   "execution_count": 6,
   "metadata": {},
   "outputs": [
    {
     "name": "stdout",
     "output_type": "stream",
     "text": [
      "(0, 'no.', 'INTEGER', 0, None, 0)\n",
      "(1, 'jn', 'TEXT', 0, None, 0)\n",
      "(2, 'project', 'TEXT', 0, None, 0)\n",
      "(3, 'fi', 'TEXT', 0, None, 0)\n",
      "(4, 'brand', 'TEXT', 0, None, 0)\n",
      "(5, 'product_', 'TEXT', 0, None, 0)\n",
      "(6, 'sku', 'INTEGER', 0, None, 0)\n",
      "(7, 'launch', 'TEXT', 0, None, 0)\n",
      "(8, 'lab', 'TEXT', 0, None, 0)\n",
      "(9, 'study_code', 'TEXT', 0, None, 0)\n",
      "(10, 'test_start', 'TIMESTAMP', 0, None, 0)\n",
      "(11, 'test_end', 'TIMESTAMP', 0, None, 0)\n"
     ]
    }
   ],
   "source": [
    "# table 확인\n",
    "import sqlite3\n",
    "\n",
    "# 데이터베이스 연결\n",
    "conn = sqlite3.connect('data.db')\n",
    "cursor = conn.cursor()\n",
    "\n",
    "# 테이블 구조 확인\n",
    "table_name = \"data_table\"  # 실제 테이블 이름\n",
    "cursor.execute(f\"PRAGMA table_info({table_name})\")\n",
    "columns = cursor.fetchall()\n",
    "\n",
    "# 열 정보 출력\n",
    "for col in columns:\n",
    "    print(col)\n",
    "\n",
    "conn.close()"
   ]
  },
  {
   "cell_type": "code",
   "execution_count": 2,
   "metadata": {},
   "outputs": [
    {
     "name": "stdout",
     "output_type": "stream",
     "text": [
      " * Serving Flask app '__main__'\n",
      " * Debug mode: on\n"
     ]
    },
    {
     "name": "stderr",
     "output_type": "stream",
     "text": [
      "\u001b[31m\u001b[1mWARNING: This is a development server. Do not use it in a production deployment. Use a production WSGI server instead.\u001b[0m\n",
      " * Running on http://127.0.0.1:5001\n",
      "\u001b[33mPress CTRL+C to quit\u001b[0m\n",
      "127.0.0.1 - - [06/Dec/2024 17:49:29] \"GET / HTTP/1.1\" 200 -\n",
      "127.0.0.1 - - [06/Dec/2024 17:50:28] \"GET / HTTP/1.1\" 200 -\n",
      "127.0.0.1 - - [06/Dec/2024 17:51:00] \"GET / HTTP/1.1\" 200 -\n",
      "127.0.0.1 - - [06/Dec/2024 17:51:09] \"GET / HTTP/1.1\" 200 -\n",
      "127.0.0.1 - - [06/Dec/2024 17:52:16] \"GET / HTTP/1.1\" 200 -\n",
      "127.0.0.1 - - [06/Dec/2024 17:52:19] \"GET / HTTP/1.1\" 200 -\n",
      "127.0.0.1 - - [06/Dec/2024 17:52:21] \"GET /search?column=product&query=lip HTTP/1.1\" 200 -\n",
      "127.0.0.1 - - [06/Dec/2024 17:53:16] \"GET / HTTP/1.1\" 200 -\n",
      "127.0.0.1 - - [06/Dec/2024 17:56:20] \"GET / HTTP/1.1\" 200 -\n",
      "127.0.0.1 - - [06/Dec/2024 17:56:20] \"GET /static/images/snap.jpg HTTP/1.1\" 200 -\n",
      "127.0.0.1 - - [06/Dec/2024 17:56:27] \"GET / HTTP/1.1\" 200 -\n",
      "127.0.0.1 - - [06/Dec/2024 17:56:27] \"\u001b[36mGET /static/images/snap.jpg HTTP/1.1\u001b[0m\" 304 -\n",
      "127.0.0.1 - - [06/Dec/2024 17:57:01] \"GET / HTTP/1.1\" 200 -\n",
      "127.0.0.1 - - [06/Dec/2024 17:57:01] \"\u001b[36mGET /static/images/snap.jpg HTTP/1.1\u001b[0m\" 304 -\n",
      "127.0.0.1 - - [06/Dec/2024 17:57:18] \"GET / HTTP/1.1\" 200 -\n",
      "127.0.0.1 - - [06/Dec/2024 17:57:18] \"GET /static/images/june.jpeg HTTP/1.1\" 200 -\n",
      "127.0.0.1 - - [06/Dec/2024 17:57:18] \"\u001b[36mGET /static/images/snap.jpg HTTP/1.1\u001b[0m\" 304 -\n"
     ]
    }
   ],
   "source": [
    "## column 별 search \n",
    "from flask import Flask, request, render_template\n",
    "import sqlite3\n",
    "\n",
    "app = Flask(__name__)\n",
    "\n",
    "# 데이터베이스 연결 함수\n",
    "def query_database(query, params=None):\n",
    "    conn = sqlite3.connect('data.db')\n",
    "    cursor = conn.cursor()\n",
    "    cursor.execute(query, params or [])\n",
    "    results = cursor.fetchall()\n",
    "    conn.close()\n",
    "    return results\n",
    "\n",
    "# 메인 페이지\n",
    "@app.route('/')\n",
    "def home():\n",
    "    return render_template('home.html')\n",
    "\n",
    "# 검색 기능 구현\n",
    "@app.route('/search')\n",
    "def search():\n",
    "    query = request.args.get('query')\n",
    "    column = request.args.get('column')\n",
    "    if query and column:\n",
    "        # SQL Injection 방지를 위해 플레이스홀더 사용\n",
    "        sql_query = f\"SELECT * FROM data_table WHERE {column} LIKE ?\"\n",
    "        results = query_database(sql_query, (f\"%{query}%\",))\n",
    "        return render_template('results.html', query=query, column=column, results=results)\n",
    "    else:\n",
    "        return \"검색어와 칼럼을 모두 입력하세요.\"\n",
    "\n",
    "if __name__ == '__main__':\n",
    "    app.run(debug=True, port=5001, use_reloader=False)"
   ]
  },
  {
   "cell_type": "code",
   "execution_count": null,
   "metadata": {},
   "outputs": [
    {
     "name": "stdout",
     "output_type": "stream",
     "text": [
      " * Serving Flask app '__main__'\n",
      " * Debug mode: on\n"
     ]
    },
    {
     "name": "stderr",
     "output_type": "stream",
     "text": [
      "Address already in use\n",
      "Port 5001 is in use by another program. Either identify and stop that program, or start the server with a different port.\n"
     ]
    },
    {
     "name": "stdout",
     "output_type": "stream",
     "text": [
      "ngrok URL: https://2df1-14-52-161-41.ngrok-free.app\n"
     ]
    }
   ],
   "source": [
    "## ngrok\n",
    "\n",
    "\n",
    "## column 별 search \n",
    "from flask import Flask, request, render_template\n",
    "import sqlite3\n",
    "import threading\n",
    "from pyngrok import ngrok\n",
    "\n",
    "app = Flask(__name__)\n",
    "\n",
    "# 데이터베이스 연결 함수\n",
    "def query_database(query, params=None):\n",
    "    conn = sqlite3.connect('data.db')\n",
    "    cursor = conn.cursor()\n",
    "    cursor.execute(query, params or [])\n",
    "    results = cursor.fetchall()\n",
    "    conn.close()\n",
    "    return results\n",
    "\n",
    "# 메인 페이지\n",
    "@app.route('/')\n",
    "def home():\n",
    "    return render_template('home.html')\n",
    "\n",
    "# 검색 기능 구현\n",
    "@app.route('/search')\n",
    "def search():\n",
    "    query = request.args.get('query')\n",
    "    column = request.args.get('column')\n",
    "    if query and column:\n",
    "        # SQL Injection 방지를 위해 플레이스홀더 사용\n",
    "        sql_query = f\"SELECT * FROM data_table WHERE {column} LIKE ?\"\n",
    "        results = query_database(sql_query, (f\"%{query}%\",))\n",
    "        return render_template('results.html', query=query, column=column, results=results)\n",
    "    else:\n",
    "        return \"검색어와 칼럼을 모두 입력하세요.\"\n",
    "\n",
    "# Flask 서버 실행 (백그라운드)\n",
    "def run_flask():\n",
    "    app.run(debug=True, use_reloader=False, port=5001)\n",
    "\n",
    "threading.Thread(target=run_flask).start()\n",
    "\n",
    "# ngrok 실행\n",
    "# ngrok.set_auth_token(\"23EzWcu8rZLEITtJUEaVRWaHuJi_BTZ9vbMf7gZ33ytKJqFW\")  # 여기에 본인의 ngrok 인증 토큰 입력\n",
    "ngrok_tunnel = ngrok.connect(5001)\n",
    "print(f\"ngrok URL: {ngrok_tunnel.public_url}\")"
   ]
  }
 ],
 "metadata": {
  "colab": {
   "provenance": []
  },
  "kernelspec": {
   "display_name": "Python (venv)",
   "language": "python",
   "name": "venv"
  },
  "language_info": {
   "codemirror_mode": {
    "name": "ipython",
    "version": 3
   },
   "file_extension": ".py",
   "mimetype": "text/x-python",
   "name": "python",
   "nbconvert_exporter": "python",
   "pygments_lexer": "ipython3",
   "version": "3.8.20"
  }
 },
 "nbformat": 4,
 "nbformat_minor": 4
}
